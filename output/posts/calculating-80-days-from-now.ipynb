{
 "metadata": {
  "name": "",
  "signature": "sha256:bdbc60a38906ee2b2d0a8ada1bd7dc9ed264d48491432baa5e1c0ba975f8fdee"
 },
 "nbformat": 3,
 "nbformat_minor": 0,
 "worksheets": [
  {
   "cells": [
    {
     "cell_type": "markdown",
     "metadata": {},
     "source": [
      "# Checking when 80 days from the start of the project is\n",
      "\n",
      "The first commit to github was done on 15th November 2014.\n",
      "\n",
      "However, I had been working on the project for a couple of days by then, so I will take 13th November 2014 as the start date."
     ]
    },
    {
     "cell_type": "code",
     "collapsed": false,
     "input": [
      "import datetime"
     ],
     "language": "python",
     "metadata": {},
     "outputs": [],
     "prompt_number": 1
    },
    {
     "cell_type": "code",
     "collapsed": false,
     "input": [
      "start = datetime.date(2014, 11, 13)\n",
      "\n",
      "start.isoformat()"
     ],
     "language": "python",
     "metadata": {},
     "outputs": [
      {
       "metadata": {},
       "output_type": "pyout",
       "prompt_number": 3,
       "text": [
        "'2014-11-13'"
       ]
      }
     ],
     "prompt_number": 3
    },
    {
     "cell_type": "markdown",
     "metadata": {},
     "source": [
      "Now calculate 80 days from the start date"
     ]
    },
    {
     "cell_type": "code",
     "collapsed": false,
     "input": [
      "end = start + datetime.timedelta(days=80)"
     ],
     "language": "python",
     "metadata": {},
     "outputs": [],
     "prompt_number": 4
    },
    {
     "cell_type": "markdown",
     "metadata": {},
     "source": [
      "Check that the 80 days of coding ends on 1st February 2015"
     ]
    },
    {
     "cell_type": "code",
     "collapsed": false,
     "input": [
      "end.isoformat()"
     ],
     "language": "python",
     "metadata": {},
     "outputs": [
      {
       "metadata": {},
       "output_type": "pyout",
       "prompt_number": 5,
       "text": [
        "'2015-02-01'"
       ]
      }
     ],
     "prompt_number": 5
    },
    {
     "cell_type": "markdown",
     "metadata": {},
     "source": [
      "What day of the week does the competition start on?"
     ]
    },
    {
     "cell_type": "code",
     "collapsed": false,
     "input": [
      "end.strftime(\"%A\")"
     ],
     "language": "python",
     "metadata": {},
     "outputs": [
      {
       "metadata": {},
       "output_type": "pyout",
       "prompt_number": 14,
       "text": [
        "'Sunday'"
       ]
      }
     ],
     "prompt_number": 14
    }
   ],
   "metadata": {}
  }
 ]
}