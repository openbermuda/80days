{
 "metadata": {
  "name": "",
  "signature": "sha256:275979611d8896f987bb738ef7c7c78eb91ea3a31b8c765b606c4cc0513a54f6"
 },
 "nbformat": 3,
 "nbformat_minor": 0,
 "worksheets": [
  {
   "cells": [
    {
     "cell_type": "code",
     "collapsed": false,
     "input": [],
     "language": "python",
     "metadata": {},
     "outputs": []
    }
   ],
   "metadata": {}
  }
 ]
}