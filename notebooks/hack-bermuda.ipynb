{
 "cells": [
  {
   "cell_type": "markdown",
   "metadata": {
    "collapsed": true,
    "slideshow": {
     "slide_type": "slide"
    }
   },
   "source": [
    "Open Bermuda\n",
    "=========\n",
    "\n",
    "<img src=\"galleries/HackBermuda/fishing.jpg\" width=\"600\" height=\"450\">\n",
    "\n",
    "**John Gill**\n",
    "\n",
    "<swfiua@gmail.com>"
   ]
  },



  {
   "cell_type": "markdown",
   "metadata": {
    "collapsed": true,
    "slideshow": {
     "slide_type": "slide"
    }
   },
   "source": [
    "There is no snow!\n",
    "=========\n",
    "\n",
    "<img src=\"galleries/HackBermuda/snow.jpg\" width=\"600\" height=\"450\">"
   ]
  }
,
  {
   "cell_type": "markdown",
   "metadata": {
    "collapsed": true,
    "slideshow": {
     "slide_type": "slide"
    }
   },
   "source": [
    "Just pink sand and blue sky\n",
    "=========\n",
    "\n",
    "<img src=\"galleries/HackBermuda/horseshoe.jpg\" width=\"600\" height=\"450\">"
   ]
  }
,
  {
   "cell_type": "markdown",
   "metadata": {
    "collapsed": true,
    "slideshow": {
     "slide_type": "slide"
    }
   },
   "source": [
    "But there are hurricanes\n",
    "=========\n",
    "\n",
    "<img src=\"galleries/HackBermuda/gonzalo-modis-oct17.jpg\" width=\"450\" height=\"600\">"
   ]
  }
,
  {
   "cell_type": "markdown",
   "metadata": {
    "collapsed": true,
    "slideshow": {
     "slide_type": "slide"
    }
   },
   "source": [
    "Gonzalo damage\n",
    "=========\n",
    "\n",
    "<img src=\"galleries/HackBermuda/treedown.jpg\" width=\"600\" height=\"450\">"
   ]
  }
,
  {
   "cell_type": "markdown",
   "metadata": {
    "collapsed": true,
    "slideshow": {
     "slide_type": "slide"
    }
   },
   "source": [
    "Stand me up again\n",
    "=========\n",
    "\n",
    "<img src=\"galleries/HackBermuda/treeup.jpg\" width=\"450\" height=\"600\">"
   ]
  }
,
  {
   "cell_type": "markdown",
   "metadata": {
    "collapsed": true,
    "slideshow": {
     "slide_type": "slide"
    }
   },
   "source": [
    "Raspberry pi day\n",
    "=========\n",
    "\n",
    "<img src=\"galleries/HackBermuda/pi_day_pies.jpg\" width=\"450\" height=\"600\">"
   ]
  }
,
  {
   "cell_type": "markdown",
   "metadata": {
    "collapsed": true,
    "slideshow": {
     "slide_type": "slide"
    }
   },
   "source": [
    "Chewstick\n",
    "=========\n",
    "\n",
    "<img src=\"galleries/HackBermuda/mandela.jpg\" width=\"600\" height=\"450\">"
   ]
  }
,
  {
   "cell_type": "markdown",
   "metadata": {
    "collapsed": true,
    "slideshow": {
     "slide_type": "slide"
    }
   },
   "source": [
    "The Pink and Blue Limo\n",
    "=========\n",
    "\n",
    "<img src=\"galleries/HackBermuda/pinkandbluelimo.jpg\" width=\"600\" height=\"450\">"
   ]
  }
,
  {
   "cell_type": "markdown",
   "metadata": {
    "collapsed": true,
    "slideshow": {
     "slide_type": "slide"
    }
   },
   "source": [
    "America's Cup 2017\n",
    "=========\n",
    "\n",
    "<img src=\"galleries/HackBermuda/americascup.jpg\" width=\"600\" height=\"450\">"
   ]
  }
,
  {
   "cell_type": "markdown",
   "metadata": {
    "collapsed": true,
    "slideshow": {
     "slide_type": "slide"
    }
   },
   "source": [
    "Come and hack in the sun\n",
    "=========\n",
    "\n",
    "<img src=\"galleries/HackBermuda/fishing.jpg\" width=\"600\" height=\"450\">"
   ]
  }



     
 ],
 "metadata": {
  "celltoolbar": "Slideshow",
  "kernelspec": {
   "display_name": "Python 3",
   "language": "python",
   "name": "python3"
  },
  "language_info": {
   "codemirror_mode": {
    "name": "ipython",
    "version": 3
   },
   "file_extension": ".py",
   "mimetype": "text/x-python",
   "name": "python",
   "nbconvert_exporter": "python",
   "pygments_lexer": "ipython3",
   "version": "3.4.3"
  },
  "name": "hack-bermuda.ipynb"
 },
 "nbformat": 4,
 "nbformat_minor": 0
}
