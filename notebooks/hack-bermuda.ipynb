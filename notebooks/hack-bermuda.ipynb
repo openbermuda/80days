{
 "cells": [
  {
   "cell_type": "markdown",
   "metadata": {
    "collapsed": true,
    "slideshow": {
     "slide_type": "slide"
    }
   },
   "source": [
    "Come Hack Bermuda\n",
    "=========\n",
    "\n",
    "<img src=\"20141019_114619.jpg\" width=\"400\" height=\"300\">\n",
    "\n",
    "**John Gill**\n",
    "\n",
    "<swfiua@gmail.com>"
   ]
  },
  {
   "cell_type": "markdown",
   "metadata": {
    "collapsed": true,
    "slideshow": {
     "slide_type": "slide"
    }
   },
   "source": [
    "There is no snow!\n",
    "=========\n",
    "\n",
    "<img src=\"20150107_124827.jpg\" width=\"400\" height=\"300\">"
   ]
  },
  {
   "cell_type": "markdown",
   "metadata": {
    "collapsed": true,
    "slideshow": {
     "slide_type": "slide"
    }
   },
   "source": [
    "But there are hurricanes\n",
    "=============\n",
    "\n",
    "<img src=\"gonzalo-modis-oct17.jpg\" width=\"400\" height=\"600\">"
   ]
  },
  {
   "cell_type": "markdown",
   "metadata": {
    "collapsed": true,
    "slideshow": {
     "slide_type": "slide"
    }
   },
   "source": [
    "Fay knocked this tree down\n",
    "==============\n",
    "\n",
    "<img src=\"treedownfay.jpg\" width=\"600\" height=\"450\">"
   ]
  },
  {
   "cell_type": "markdown",
   "metadata": {
    "collapsed": true,
    "slideshow": {
     "slide_type": "slide"
    }
   },
   "source": [
    "A week later, Gonzalo\n",
    "===========\n",
    "\n",
    "<img src=\"20141018_091438.jpg\" width=\"600\" height=\"450\">"
   ]
  },
  {
   "cell_type": "markdown",
   "metadata": {
    "collapsed": true,
    "slideshow": {
     "slide_type": "slide"
    }
   },
   "source": [
    "America's Cup in 2017\n",
    "===========\n",
    "\n",
    "<img src=\"americascup.jpg\" width=\"600\" height=\"450\">"
   ]
  },
  {
   "cell_type": "markdown",
   "metadata": {
    "collapsed": true,
    "slideshow": {
     "slide_type": "slide"
    }
   },
   "source": [
    "Hackathon\n",
    "=====\n",
    "\n",
    "\n",
    "<img src=\"20140920_121434.jpg\" width=\"600\" height=\"450\">"
   ]
  },
  {
   "cell_type": "markdown",
   "metadata": {
    "slideshow": {
     "slide_type": "fragment"
    }
   },
   "source": [
    "Pi-day @ Chewstick\n",
    "==========\n",
    "\n",
    "<img src=\"piday.jpg\" width=\"600\" height=\"450\">"
   ]
  },
  {
   "cell_type": "markdown",
   "metadata": {
    "slideshow": {
     "slide_type": "fragment"
    }
   },
   "source": [
    "<img src=\"piday3.jpg\" width=\"600\" height=\"450\">"
   ]
  },
  {
   "cell_type": "markdown",
   "metadata": {
    "collapsed": true,
    "slideshow": {
     "slide_type": "fragment"
    }
   },
   "source": [
    "<img src=\"pi_day_pies.jpg\" width=\"600\" height=\"450\">"
   ]
  },
  {
   "cell_type": "markdown",
   "metadata": {
    "collapsed": true
   },
   "source": [
    "Pink and blue Limo\n",
    "==================\n",
    "\n",
    "<img src=\"pinkandbluelimo.jpg\" width=\"600\" height=\"450\">\n"
   ]
  },
  {
   "cell_type": "markdown",
   "metadata": {
    "collapsed": true
   },
   "source": [
    "http://127.0.0.1:8000/hack-bermuda.slides.html?theme=beige&transition=fade#/1\n",
    "\n",
    "<img src=\"20141206_114808.jpg\" width=\"600\" height=\"450\">\n",
    "<img src=\"20141018_091438.jpg\" width=\"600\" height=\"450\">\n",
    "<img src=\"mandela.jpg\" width=\"600\" height=\"450\">\n",
    "<img src=\"gonzalo-modis-oct17.jpg\" width=\"600\" height=\"450\">\n",
    "<img src=\"piday.jpg\" width=\"600\" height=\"450\">\n",
    "<img src=\"20141019_114619.jpg\" width=\"600\" height=\"450\">\n",
    "<img src=\"20141021_073556.jpg\" width=\"600\" height=\"450\">\n",
    "<img src=\"20140920_121434.jpg\" width=\"600\" height=\"450\">\n",
    "<img src=\"pi_day_pies.jpg\" width=\"600\" height=\"450\">\n",
    "<img src=\"americascup.jpg\" width=\"600\" height=\"450\">\n",
    "<img src=\"20141029_142539.jpg\" width=\"600\" height=\"450\">\n",
    "<img src=\"20141206_092943.jpg\" width=\"600\" height=\"450\">\n",
    "<img src=\"treedownfay.jpg\" width=\"600\" height=\"450\">\n",
    "<img src=\"piday3.jpg\" width=\"600\" height=\"450\">\n",
    "<img src=\"20150107_124827.jpg\" width=\"600\" height=\"450\">\n",
    "<img src=\"20141105_152803.jpg\" width=\"600\" height=\"450\">\n",
    "<img src=\"cricket.jpg\" width=\"600\" height=\"450\">\n"
   ]
  }
 ],
 "metadata": {
  "celltoolbar": "Slideshow",
  "kernelspec": {
   "display_name": "Python 3",
   "language": "python",
   "name": "python3"
  },
  "language_info": {
   "codemirror_mode": {
    "name": "ipython",
    "version": 3
   },
   "file_extension": ".py",
   "mimetype": "text/x-python",
   "name": "python",
   "nbconvert_exporter": "python",
   "pygments_lexer": "ipython3",
   "version": "3.4.3"
  },
  "name": "hack-bermuda.ipynb"
 },
 "nbformat": 4,
 "nbformat_minor": 0
}
