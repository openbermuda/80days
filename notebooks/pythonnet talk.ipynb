{
 "cells": [
  {
   "cell_type": "markdown",
   "metadata": {
    "slideshow": {
     "slide_type": "slide"
    }
   },
   "source": [
    "Some Python Magic\n",
    "=================\n",
    "\n",
    "<img src=\"magic.jpg\">\n",
    "\n",
    "**John Gill**\n",
    "\n",
    "<swfiua@gmail.com>\n",
    "\n",
    "<http://xkcd.com/353/>"
   ]
  },
  {
   "cell_type": "markdown",
   "metadata": {
    "slideshow": {
     "slide_type": "subslide"
    }
   },
   "source": [
    "<http://127.0.0.1:8000/pythonnet%20talk.slides.html?theme=beige&transition=fade#/>"
   ]
  },
  {
   "cell_type": "markdown",
   "metadata": {
    "slideshow": {
     "slide_type": "slide"
    }
   },
   "source": [
    "\n",
    "Who uses python on windows?\n",
    "===========================\n",
    "<img src=\"windows.jpg\" height=\"300\" width=\"300\">"
   ]
  },
  {
   "cell_type": "markdown",
   "metadata": {
    "slideshow": {
     "slide_type": "slide"
    }
   },
   "source": [
    "Who uses IronPython?\n",
    "====================\n",
    "\n",
    "<img src=\"ironpython.jpg\">"
   ]
  },
  {
   "cell_type": "markdown",
   "metadata": {
    "slideshow": {
     "slide_type": "fragment"
    }
   },
   "source": [
    "What about:\n",
    "===========\n",
    "\n",
    " * numpy\n",
    " * scipy\n",
    " * pandas\n",
    " * matplotlib?"
   ]
  },
  {
   "cell_type": "markdown",
   "metadata": {
    "slideshow": {
     "slide_type": "fragment"
    }
   },
   "source": [
    "**What we really need is cpython which can call .NET objects seamlessly**"
   ]
  },
  {
   "cell_type": "markdown",
   "metadata": {
    "slideshow": {
     "slide_type": "slide"
    }
   },
   "source": [
    "Pythonnet\n",
    "   =========\n",
    "\n",
    "https://github.com/pythonnet/pythonnet\n",
    "\n",
    "Thanks to:\n",
    "\n",
    "* Brian Lloyd\n",
    "\n",
    "* David Anthoff\n",
    "\n",
    "**pip install --pre pythonnet**\n",
    "\n",
    "<img src=\"pythonnet.jpg\">\n",
    "\n"
   ]
  },
  {
   "cell_type": "markdown",
   "metadata": {
    "slideshow": {
     "slide_type": "slide"
    }
   },
   "source": [
    "Magic time -- imagine\n",
    "=====================\n",
    "\n",
    "> **Imagine there's no numpy, it's easy if you try**\n",
    "\n",
    "> **Imagine there's no batteries, only MS .Net**\n",
    "\n",
    "<img src=\"magic.jpg\">"
   ]
  },
  {
   "cell_type": "code",
   "execution_count": 18,
   "metadata": {
    "collapsed": false,
    "slideshow": {
     "slide_type": "slide"
    }
   },
   "outputs": [
    {
     "data": {
      "image/png": "[encoded data removed]",
      "text/plain": [
       "<matplotlib.figure.Figure at 0x83a64a8>"
      ]
     },
     "metadata": {},
     "output_type": "display_data"
    }
   ],
   "source": [
    "import clr\n",
    "\n",
    "from System import Random\n",
    "\n",
    "rand = Random()\n",
    "\n",
    "data = pylab.hist([rand.Next() for x in xrange(1000)])"
   ]
  },
  {
   "cell_type": "markdown",
   "metadata": {
    "slideshow": {
     "slide_type": "subslide"
    }
   },
   "source": [
    "Can use **any** .NET dll\n",
    "========================\n",
    "\n",
    "###Put folder containing the DLLs you want to use in your PYTHONPATH\n",
    "\n",
    "<pre><code>\n",
    "   import clr\n",
    "   clr.AddReference(\"Name.Of.Your.Assembly\")\n",
    "\n",
    "   from assembly.name import DotNetClass\n",
    "   </code></pre>"
   ]
  },
  {
   "cell_type": "code",
   "execution_count": 8,
   "metadata": {
    "collapsed": false,
    "slideshow": {
     "slide_type": "subslide"
    }
   },
   "outputs": [],
   "source": [
    "from System.Diagnostics import Trace\n",
    "\n",
    "Trace.WriteLine(\"message from python\")"
   ]
  },
  {
   "cell_type": "markdown",
   "metadata": {
    "slideshow": {
     "slide_type": "slide"
    }
   },
   "source": [
    "Thanks\n",
    "======\n",
    "\n",
    "To everyone who made this possible..\n",
    "\n",
    "Special thanks to:  Cristoph Gohlke"
   ]
  },
  {
   "cell_type": "markdown",
   "metadata": {
    "slideshow": {
     "slide_type": "slide"
    }
   },
   "source": [
    "Christoph Gohlke\n",
    "================\n",
    " \n",
    "Binary packages for windows:\n",
    " \n",
    "http://www.lfd.uci.edu/~gohlke/pythonlibs/"
   ]
  },
  {
   "cell_type": "code",
   "execution_count": 1,
   "metadata": {
    "collapsed": false,
    "slideshow": {
     "slide_type": "fragment"
    }
   },
   "outputs": [
    {
     "data": {
      "text/plain": [
       "'thank you!thank you!thank you!thank you!thank you!thank you!thank you!thank you!thank you!thank you!thank you!thank you!thank you!thank you!thank you!thank you!thank you!thank you!thank you!thank you!thank you!thank you!thank you!thank you!thank you!thank you!thank you!thank you!thank you!thank you!thank you!thank you!thank you!thank you!thank you!thank you!thank you!thank you!thank you!thank you!thank you!thank you!thank you!thank you!thank you!thank you!thank you!thank you!thank you!thank you!thank you!thank you!thank you!thank you!thank you!thank you!thank you!thank you!thank you!thank you!thank you!thank you!thank you!thank you!thank you!thank you!thank you!thank you!thank you!thank you!thank you!thank you!thank you!thank you!thank you!thank you!thank you!thank you!thank you!thank you!thank you!thank you!thank you!thank you!thank you!thank you!thank you!thank you!thank you!thank you!thank you!thank you!thank you!thank you!thank you!thank you!thank you!thank you!thank you!thank you!thank you!thank you!thank you!thank you!thank you!thank you!thank you!thank you!thank you!thank you!thank you!thank you!thank you!thank you!thank you!thank you!thank you!thank you!thank you!thank you!thank you!thank you!thank you!thank you!thank you!thank you!thank you!thank you!thank you!thank you!thank you!thank you!thank you!thank you!thank you!thank you!thank you!thank you!thank you!thank you!thank you!thank you!thank you!thank you!thank you!thank you!thank you!thank you!thank you!thank you!thank you!thank you!thank you!thank you!thank you!thank you!thank you!thank you!thank you!thank you!thank you!thank you!thank you!thank you!thank you!thank you!thank you!thank you!thank you!thank you!thank you!thank you!thank you!thank you!thank you!thank you!thank you!thank you!thank you!thank you!thank you!thank you!thank you!thank you!thank you!thank you!thank you!thank you!thank you!thank you!thank you!thank you!thank you!thank you!thank you!thank you!thank you!thank you!thank you!thank you!thank you!thank you!thank you!thank you!thank you!thank you!thank you!thank you!thank you!thank you!thank you!thank you!thank you!thank you!thank you!thank you!thank you!thank you!thank you!thank you!thank you!thank you!thank you!thank you!thank you!thank you!thank you!thank you!thank you!thank you!thank you!thank you!thank you!thank you!thank you!thank you!thank you!thank you!thank you!thank you!thank you!thank you!thank you!thank you!thank you!thank you!thank you!thank you!thank you!thank you!thank you!thank you!thank you!thank you!thank you!thank you!thank you!thank you!thank you!thank you!thank you!thank you!thank you!thank you!thank you!thank you!thank you!thank you!thank you!thank you!thank you!thank you!thank you!thank you!thank you!thank you!thank you!thank you!thank you!thank you!thank you!thank you!thank you!thank you!thank you!thank you!thank you!thank you!thank you!thank you!thank you!thank you!thank you!thank you!thank you!thank you!thank you!thank you!thank you!thank you!thank you!thank you!thank you!thank you!thank you!thank you!thank you!thank you!thank you!thank you!thank you!thank you!thank you!thank you!thank you!thank you!thank you!thank you!thank you!thank you!thank you!thank you!thank you!thank you!thank you!thank you!thank you!thank you!thank you!thank you!thank you!thank you!thank you!thank you!thank you!thank you!thank you!thank you!thank you!thank you!thank you!thank you!thank you!thank you!thank you!thank you!thank you!thank you!thank you!thank you!thank you!thank you!thank you!thank you!thank you!thank you!thank you!thank you!thank you!thank you!thank you!thank you!thank you!thank you!thank you!thank you!thank you!thank you!thank you!thank you!thank you!thank you!thank you!thank you!thank you!thank you!thank you!thank you!thank you!thank you!thank you!thank you!thank you!thank you!thank you!thank you!thank you!thank you!thank you!thank you!thank you!thank you!thank you!thank you!thank you!thank you!thank you!thank you!thank you!thank you!thank you!thank you!thank you!thank you!thank you!thank you!thank you!thank you!thank you!thank you!thank you!thank you!thank you!thank you!thank you!thank you!thank you!thank you!thank you!thank you!thank you!thank you!thank you!thank you!thank you!thank you!thank you!thank you!thank you!thank you!thank you!thank you!thank you!thank you!thank you!thank you!thank you!thank you!thank you!thank you!thank you!thank you!thank you!thank you!thank you!thank you!thank you!thank you!thank you!thank you!thank you!thank you!thank you!thank you!thank you!thank you!thank you!thank you!thank you!thank you!thank you!thank you!thank you!thank you!thank you!thank you!thank you!thank you!thank you!thank you!thank you!thank you!thank you!thank you!thank you!thank you!thank you!thank you!thank you!thank you!thank you!thank you!thank you!thank you!thank you!thank you!thank you!thank you!thank you!thank you!thank you!thank you!thank you!thank you!thank you!thank you!thank you!thank you!thank you!thank you!thank you!thank you!thank you!thank you!thank you!thank you!thank you!thank you!thank you!thank you!thank you!thank you!thank you!thank you!thank you!thank you!thank you!thank you!thank you!thank you!thank you!thank you!thank you!thank you!thank you!thank you!thank you!thank you!thank you!thank you!thank you!thank you!thank you!thank you!thank you!thank you!thank you!thank you!thank you!thank you!thank you!thank you!thank you!thank you!thank you!thank you!thank you!thank you!thank you!thank you!thank you!thank you!thank you!thank you!thank you!thank you!thank you!thank you!thank you!thank you!thank you!thank you!thank you!thank you!thank you!thank you!thank you!thank you!thank you!thank you!thank you!thank you!thank you!thank you!thank you!thank you!thank you!thank you!thank you!thank you!thank you!thank you!thank you!thank you!thank you!thank you!thank you!thank you!thank you!thank you!thank you!thank you!thank you!thank you!thank you!thank you!thank you!thank you!thank you!thank you!thank you!thank you!thank you!thank you!thank you!thank you!thank you!thank you!thank you!thank you!thank you!thank you!thank you!thank you!thank you!thank you!thank you!thank you!thank you!thank you!thank you!thank you!thank you!thank you!thank you!thank you!thank you!thank you!thank you!thank you!thank you!thank you!thank you!thank you!thank you!thank you!thank you!thank you!thank you!thank you!thank you!thank you!thank you!thank you!thank you!thank you!thank you!thank you!thank you!thank you!thank you!thank you!thank you!thank you!thank you!thank you!thank you!thank you!thank you!thank you!thank you!thank you!thank you!thank you!thank you!thank you!thank you!thank you!thank you!thank you!thank you!thank you!thank you!thank you!thank you!thank you!thank you!thank you!thank you!thank you!thank you!thank you!thank you!thank you!thank you!thank you!thank you!thank you!thank you!thank you!thank you!thank you!thank you!thank you!thank you!thank you!thank you!thank you!thank you!thank you!thank you!thank you!thank you!thank you!thank you!thank you!thank you!thank you!thank you!thank you!thank you!thank you!thank you!thank you!thank you!thank you!thank you!thank you!thank you!thank you!thank you!thank you!thank you!thank you!thank you!thank you!thank you!thank you!thank you!thank you!thank you!thank you!thank you!thank you!thank you!thank you!thank you!thank you!thank you!thank you!thank you!thank you!thank you!thank you!thank you!thank you!thank you!thank you!thank you!thank you!thank you!thank you!thank you!thank you!thank you!thank you!thank you!thank you!thank you!thank you!thank you!thank you!thank you!thank you!thank you!thank you!thank you!thank you!thank you!thank you!thank you!thank you!thank you!thank you!thank you!thank you!thank you!thank you!thank you!thank you!thank you!thank you!thank you!thank you!thank you!thank you!thank you!thank you!thank you!thank you!thank you!thank you!thank you!thank you!thank you!thank you!thank you!thank you!thank you!thank you!thank you!thank you!thank you!thank you!thank you!thank you!thank you!thank you!thank you!thank you!thank you!thank you!thank you!thank you!thank you!thank you!thank you!thank you!thank you!thank you!thank you!thank you!thank you!thank you!thank you!thank you!thank you!thank you!thank you!thank you!thank you!thank you!thank you!thank you!thank you!thank you!thank you!thank you!thank you!thank you!thank you!thank you!thank you!thank you!thank you!thank you!thank you!thank you!thank you!thank you!thank you!thank you!thank you!thank you!thank you!thank you!thank you!thank you!thank you!thank you!thank you!thank you!thank you!thank you!thank you!thank you!thank you!thank you!thank you!thank you!thank you!thank you!thank you!thank you!thank you!thank you!thank you!thank you!thank you!thank you!thank you!thank you!thank you!thank you!thank you!thank you!thank you!thank you!thank you!thank you!thank you!thank you!thank you!thank you!thank you!thank you!thank you!thank you!thank you!thank you!thank you!thank you!thank you!thank you!thank you!thank you!thank you!thank you!thank you!thank you!thank you!thank you!thank you!thank you!thank you!thank you!thank you!thank you!thank you!thank you!thank you!thank you!thank you!thank you!thank you!thank you!thank you!thank you!thank you!thank you!thank you!thank you!thank you!thank you!thank you!thank you!thank you!thank you!thank you!thank you!thank you!thank you!thank you!thank you!thank you!thank you!thank you!thank you!thank you!thank you!thank you!thank you!thank you!thank you!thank you!thank you!thank you!thank you!thank you!thank you!thank you!thank you!thank you!thank you!thank you!thank you!thank you!thank you!thank you!thank you!thank you!thank you!thank you!thank you!thank you!thank you!thank you!thank you!thank you!thank you!thank you!thank you!thank you!thank you!thank you!thank you!thank you!thank you!thank you!thank you!thank you!thank you!thank you!thank you!thank you!thank you!thank you!thank you!thank you!thank you!'"
      ]
     },
     "execution_count": 1,
     "metadata": {},
     "output_type": "execute_result"
    }
   ],
   "source": [
    "\"thank you!\" * 1000"
   ]
  }
 ],
 "metadata": {
  "celltoolbar": "Slideshow",
  "kernelspec": {
   "display_name": "Python 3",
   "language": "python",
   "name": "python3"
  },
  "language_info": {
   "codemirror_mode": {
    "name": "ipython",
    "version": 3
   },
   "file_extension": ".py",
   "mimetype": "text/x-python",
   "name": "python",
   "nbconvert_exporter": "python",
   "pygments_lexer": "ipython3",
   "version": "3.4.3"
  }
 },
 "nbformat": 4,
 "nbformat_minor": 0
}
