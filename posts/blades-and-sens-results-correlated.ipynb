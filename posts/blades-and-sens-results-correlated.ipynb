{
 "metadata": {
  "name": "",
  "signature": "sha256:0c1e0e274411917035825ee1f61114fe897a4b361f2ae0f32e4b1696b57f259c"
 },
 "nbformat": 3,
 "nbformat_minor": 0,
 "worksheets": [
  {
   "cells": [
    {
     "cell_type": "markdown",
     "metadata": {},
     "source": [
      "I have felt for a while that when the Blades win, the Sens also seem to do better.  When the Blades lose, the Sens don't do so well.\n",
      "\n",
      "My guess is this is mostly just perspective, but I follow both teams.  Blades, or Sheffield United, are hoping to get a place in the League 1 play-offs.  The Sens, or Ottawa Senators, are trying to get into the Stanley Playoffs.  \n",
      "\n",
      "If you'd asked me at the start of the year, I would have thought being about where we are was a distinct possibility.  I still felt we might push into the top two.  That would get us up to the Championship automatically.\n",
      "\n"
     ]
    }
   ],
   "metadata": {}
  }
 ]
}