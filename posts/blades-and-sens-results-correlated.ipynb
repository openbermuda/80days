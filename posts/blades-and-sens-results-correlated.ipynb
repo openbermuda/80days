{
 "metadata": {
  "name": "",
  "signature": "sha256:7c3ee3d7a54054f8b31c027d2eb9f3eccf99e4845bb2cd9d4e377a632d22601a"
 },
 "nbformat": 3,
 "nbformat_minor": 0,
 "worksheets": [
  {
   "cells": [
    {
     "cell_type": "markdown",
     "metadata": {},
     "source": [
      "I have felt for a while that when the Blades win, the Sens also seem\n",
      "to do better.  When the Blades lose, the Sens don't do so well.\n",
      "\n",
      "My guess is this is mostly just perspective, but I follow both teams.\n",
      "Blades, or Sheffield United, are hoping to get a place in the League 1\n",
      "play-offs.  The Sens, or Ottawa Senators, are trying to get into the\n",
      "Stanley Playoffs.\n",
      "\n",
      "If you'd asked me at the start of the year, I would have thought being\n",
      "about where we are was a distinct possibility.  I still felt we might\n",
      "push into the top two.  That would get us up to the Championship\n",
      "automatically.\n",
      "\n",
      "The Sens on the other hand appeared to be going nowhere.  Until the\n",
      "inevitable sacking of the coach to be replaced by Dave Cameron, who\n",
      "was the assistant up to that point.  And for a while nothing changed,\n",
      "but then a new goalie was brought in, due to injuries.  Since then\n",
      "they have been on a run.\n",
      "\n",
      "The last few games have been just like watching the Blades.  The\n",
      "Blades never (well almost never) do it the easy way.  So it is always\n",
      "a season of maybe, just waiting for the point where it all unravels.\n",
      "\n",
      "But this Sens run has been different.  They are already way beyond\n",
      "what anyone could have hoped for a few months back.  But now they are\n",
      "tantalisingly close to a playoffs, with a team that is playing well\n",
      "and having fun.  But like the Blades, they've been doing it the hard\n",
      "way.  3-0 leads disappearing, coming from behind to go on and win in\n",
      "over-time.   \n"
     ]
    },
    {
     "cell_type": "markdown",
     "metadata": {},
     "source": [
      "Getting some data\n",
      "=================\n",
      "\n",
      "So, there has been a lot going on and my guess is that anything\n",
      "that might be in the data will be better explained by major changes such\n",
      "as of coaching staff or players.\n",
      "\n",
      "So first problem, getting the data.  I am planning to just get this season's results for both teams and extract the days when they both played, then take a look at how the results lined up.  \n",
      "\n"
     ]
    }
   ],
   "metadata": {}
  }
 ]
}