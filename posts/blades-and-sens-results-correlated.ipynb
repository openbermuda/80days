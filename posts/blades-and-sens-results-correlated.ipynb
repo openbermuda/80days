{
 "metadata": {
  "name": "",
  "signature": "sha256:3df07b59c4be2ea51e1acddb351561c80158aef06ce0e69c3e941a96eaf713ae"
 },
 "nbformat": 3,
 "nbformat_minor": 0,
 "worksheets": [
  {
   "cells": [
    {
     "cell_type": "markdown",
     "source": [
      "I have felt for a while that when the Blades win, the Sens also seem\n",
      "to do better.  When the Blades lose, the Sens don't do so well.\n",
      "\n",
      "My guess is this is mostly just perspective, but I follow both teams.\n",
      "Blades, or Sheffield United, are hoping to get a place in the League 1\n",
      "play-offs.  The Sens, or Ottawa Senators, are trying to get into the\n",
      "Stanley Playoffs.\n",
      "\n",
      "If you'd asked me at the start of the year, I would have thought being\n",
      "about where we are was a distinct possibility.  I still felt we might\n",
      "push into the top two.  That would get us up to the Championship\n",
      "automatically.\n",
      "\n",
      "The Sens on the other hand appeared to be going nowhere.  Until the\n",
      "inevitable sacking of the coach to be replaced by Dave Cameron, who\n",
      "was the assistant up to that point.  And for a while nothing changed,\n",
      "but then a new goalie was brought in, due to injuries.  Since then\n",
      "they have been on a run.\n",
      "\n",
      "The last few games have been just like watching the Blades.  The\n",
      "Blades never (well almost never) do it the easy way.  So it is always\n",
      "a season of maybe, just waiting for the point where it all unravels.\n",
      "\n",
      "But this Sens run has been different.  They are already way beyond\n",
      "what anyone could have hoped for a few months back.  But now they are\n",
      "tantalisingly close to a playoffs, with a team that is playing well\n",
      "and having fun.  But like the Blades, they've been doing it the hard\n",
      "way.  3-0 leads disappearing, coming from behind to go on and win in\n",
      "over-time.   \n"
     ]
    },
    {
     "cell_type": "markdown",
     "source": [
      "Getting some data\n",
      "=================\n",
      "\n",
      "So, there has been a lot going on and my guess is that anything\n",
      "that might be in the data will be better explained by major changes such\n",
      "as of coaching staff or players.\n",
      "\n",
      "So first problem, getting the data.  I am planning to just get this season's results for both teams and extract the days when they both played, then take a look at how the results lined up.  \n",
      "\n"
     ]
    },
    {
     "cell_type": "markdown",
     "source": [
      "Yesterday's games\n",
      "=================\n",
      "\n",
      "The mighty Blades had a key game against local rivals Doncaster.  As\n",
      "per usual, they did things the hard way, coming from behind twice to\n",
      "end up winners 3-2.\n",
      "\n",
      "That is two big wins over local rivals in a matter of days.  The\n",
      "Blades are now firmly in the playoff positions, one more win from the\n",
      "last three games might be all that is needed.\n",
      "\n",
      "Another local side, Chesterfield, are looming large.  It feels like\n",
      "they will play a part in the rest of our season.  I grew up on the\n",
      "Chesterfield side of Sheffield, almost equidistant from the two\n",
      "grounds.\n",
      "\n",
      "Meanwhile, the Senators were at home to the Pittsburgh Penguins last\n",
      "night, in what really was a must win game.\n",
      "\n",
      "It was also fan appreciation night.  Within 10 seconds of the start\n",
      "they were 1-0 down.  By 5 minutes in they were 2-0 down and by the end\n",
      "of the first period it was 3-0.  Oh dear.  Sid Crosby on form and the\n",
      "young Sens not firing.\n",
      "\n",
      "Second period was a different story.  Sens put the Penguins under\n",
      "pressure, but nothing finding the net, until 5 minutes from the end of\n",
      "the period.  Pageau managed to sneak one in off one of the Penguin's\n",
      "skates.\n",
      "\n",
      "30 seconds into the third period they got a second.  Two minutes from\n",
      "time they equalised and then Mark Stone fired in the winner in\n",
      "overtime.\n",
      "\n",
      "Now that is what I call a fan appreciation night.\n",
      "\n",
      "Oh, and Blades and Sens both win on the same night, so that hypothesis\n",
      "is proven ;)\n"
     ]
    }
   ]
  }
 ]
}