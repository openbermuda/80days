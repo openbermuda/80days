{
 "metadata": {
  "name": "",
  "signature": "sha256:5215e5008ef2e6dbca69fe6e25543d77f81bf0da430323042fe1f97593aea875"
 },
 "nbformat": 3,
 "nbformat_minor": 0,
 "worksheets": [
  {
   "cells": [
    {
     "cell_type": "markdown",
     "metadata": {},
     "source": [
      "# Checking when 80 days from the start of the project is\n",
      "\n",
      "The first commit to github was done on 15th November 2014.\n",
      "\n",
      "However, I had been working on the project for a couple of days by then, so I will take 13th November 2014 as the start date."
     ]
    },
    {
     "cell_type": "code",
     "collapsed": false,
     "input": [
      "import datetime"
     ],
     "language": "python",
     "metadata": {},
     "outputs": [],
     "prompt_number": 2
    },
    {
     "cell_type": "code",
     "collapsed": false,
     "input": [
      "start = datetime.date(2014, 11, 13)\n",
      "\n",
      "start.isoformat()"
     ],
     "language": "python",
     "metadata": {},
     "outputs": [
      {
       "metadata": {},
       "output_type": "pyout",
       "prompt_number": 3,
       "text": [
        "'2014-11-13'"
       ]
      }
     ],
     "prompt_number": 3
    },
    {
     "cell_type": "markdown",
     "metadata": {},
     "source": [
      "Now calculate 80 days from the start date"
     ]
    },
    {
     "cell_type": "code",
     "collapsed": false,
     "input": [
      "end = start + datetime.timedelta(days=80)"
     ],
     "language": "python",
     "metadata": {},
     "outputs": [],
     "prompt_number": 4
    },
    {
     "cell_type": "markdown",
     "metadata": {},
     "source": [
      "Check that the 80 days of coding ends on 1st February 2015"
     ]
    },
    {
     "cell_type": "code",
     "collapsed": false,
     "input": [
      "end.isoformat()"
     ],
     "language": "python",
     "metadata": {},
     "outputs": [
      {
       "metadata": {},
       "output_type": "pyout",
       "prompt_number": 5,
       "text": [
        "'2015-02-01'"
       ]
      }
     ],
     "prompt_number": 5
    },
    {
     "cell_type": "markdown",
     "metadata": {},
     "source": [
      "What day of the week does the competition start on?"
     ]
    },
    {
     "cell_type": "code",
     "collapsed": false,
     "input": [
      "end.strftime(\"%A\")"
     ],
     "language": "python",
     "metadata": {},
     "outputs": [
      {
       "metadata": {},
       "output_type": "pyout",
       "prompt_number": 6,
       "text": [
        "'Sunday'"
       ]
      }
     ],
     "prompt_number": 6
    },
    {
     "cell_type": "markdown",
     "metadata": {},
     "source": [
      "How many days are we into the project?"
     ]
    },
    {
     "cell_type": "code",
     "collapsed": false,
     "input": [
      "today = datetime.date.today()\n",
      "\n",
      "day = (today-start).days\n",
      "\n",
      "print(\"Today is day %(day)d.  %(togo)d days to go.\" % dict(day=day, togo=(80-day)))"
     ],
     "language": "python",
     "metadata": {},
     "outputs": [
      {
       "output_type": "stream",
       "stream": "stdout",
       "text": [
        "Today is day 33.  47 days to go.\n"
       ]
      }
     ],
     "prompt_number": 11
    }
   ],
   "metadata": {}
  }
 ]
}